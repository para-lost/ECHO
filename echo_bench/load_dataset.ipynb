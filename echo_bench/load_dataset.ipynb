{
 "cells": [
  {
   "cell_type": "code",
   "execution_count": 1,
   "id": "49718179",
   "metadata": {},
   "outputs": [
    {
     "data": {
      "application/vnd.jupyter.widget-view+json": {
       "model_id": "b71e3d78a0bc4ad4a5ecf0e570693bb4",
       "version_major": 2,
       "version_minor": 0
      },
      "text/plain": [
       "image_to_image/test-00000-of-00001.parqu(…):   0%|          | 0.00/121k [00:00<?, ?B/s]"
      ]
     },
     "metadata": {},
     "output_type": "display_data"
    },
    {
     "data": {
      "application/vnd.jupyter.widget-view+json": {
       "model_id": "5f5f1b43060642fe9f48753778a12dc4",
       "version_major": 2,
       "version_minor": 0
      },
      "text/plain": [
       "Generating test split:   0%|          | 0/717 [00:00<?, ? examples/s]"
      ]
     },
     "metadata": {},
     "output_type": "display_data"
    },
    {
     "name": "stdout",
     "output_type": "stream",
     "text": [
      "717 1904601298038906936 1\n",
      "['1904601298038906936', '1904865923007439224', '1904870519167451567', '1904889620342452562'] 1\n"
     ]
    }
   ],
   "source": [
    "from torchvision import transforms\n",
    "from torch.utils.data import DataLoader\n",
    "from echo_bench_i2i import EchoBenchHFImageToImage, echo_bench_i2i_collate\n",
    "from datasets import load_dataset\n",
    "\n",
    "# load the image-to-image split\n",
    "ds = EchoBenchHFImageToImage(\n",
    "    repo_id=\"echo-bench/echo2025\",\n",
    "    name=\"image_to_image\",\n",
    "    split=\"test\",\n",
    ")\n",
    "\n",
    "print(len(ds), ds[0][\"id\"], len(ds[0][\"input_images\"]))\n",
    "\n",
    "loader = DataLoader(ds, batch_size=4, shuffle=False, collate_fn=echo_bench_i2i_collate)\n",
    "batch = next(iter(loader))\n",
    "print(batch[\"id\"], len(batch[\"input_images\"][0]))\n"
   ]
  },
  {
   "cell_type": "code",
   "execution_count": 2,
   "id": "a306002a",
   "metadata": {},
   "outputs": [
    {
     "data": {
      "application/vnd.jupyter.widget-view+json": {
       "model_id": "cb0be583b89a47abaf1808bfa7fb48d5",
       "version_major": 2,
       "version_minor": 0
      },
      "text/plain": [
       "Generating test split:   0%|          | 0/848 [00:00<?, ? examples/s]"
      ]
     },
     "metadata": {},
     "output_type": "display_data"
    },
    {
     "data": {
      "text/plain": [
       "Dataset({\n",
       "    features: ['id', 'prompt', 'prompt_modified', 'prompt_fill_blank', 'input_images', 'output_images', 'community_feedback', 'has_nsfw'],\n",
       "    num_rows: 848\n",
       "})"
      ]
     },
     "execution_count": 2,
     "metadata": {},
     "output_type": "execute_result"
    }
   ],
   "source": [
    "# load the text-to-image split\n",
    "ds_text_to_image = load_dataset(\n",
    "    \"echo-bench/echo2025\",\n",
    "    name=\"text_to_image\",\n",
    "    split=\"test\",\n",
    ")\n",
    "ds_text_to_image\n"
   ]
  },
  {
   "cell_type": "code",
   "execution_count": 3,
   "id": "ff5a92de",
   "metadata": {},
   "outputs": [
    {
     "data": {
      "application/vnd.jupyter.widget-view+json": {
       "model_id": "7a48739e85844a949d4bcaad9b3a54ab",
       "version_major": 2,
       "version_minor": 0
      },
      "text/plain": [
       "README.md: 0.00B [00:00, ?B/s]"
      ]
     },
     "metadata": {},
     "output_type": "display_data"
    },
    {
     "data": {
      "application/vnd.jupyter.widget-view+json": {
       "model_id": "ff870768a4094fe885cd6b5b85677eed",
       "version_major": 2,
       "version_minor": 0
      },
      "text/plain": [
       "image_to_image/test-00000-of-00003.parqu(…):   0%|          | 0.00/482M [00:00<?, ?B/s]"
      ]
     },
     "metadata": {},
     "output_type": "display_data"
    },
    {
     "data": {
      "application/vnd.jupyter.widget-view+json": {
       "model_id": "cc578f6a9d8442d6ab562bb0e0e49110",
       "version_major": 2,
       "version_minor": 0
      },
      "text/plain": [
       "image_to_image/test-00001-of-00003.parqu(…):   0%|          | 0.00/463M [00:00<?, ?B/s]"
      ]
     },
     "metadata": {},
     "output_type": "display_data"
    },
    {
     "data": {
      "application/vnd.jupyter.widget-view+json": {
       "model_id": "3abb9cc7d3fb42cab8f41dbd49bbaffd",
       "version_major": 2,
       "version_minor": 0
      },
      "text/plain": [
       "image_to_image/test-00002-of-00003.parqu(…):   0%|          | 0.00/494M [00:00<?, ?B/s]"
      ]
     },
     "metadata": {},
     "output_type": "display_data"
    },
    {
     "data": {
      "application/vnd.jupyter.widget-view+json": {
       "model_id": "180319b3b7b14ee691119962855b5d8a",
       "version_major": 2,
       "version_minor": 0
      },
      "text/plain": [
       "Generating test split:   0%|          | 0/717 [00:00<?, ? examples/s]"
      ]
     },
     "metadata": {},
     "output_type": "display_data"
    },
    {
     "data": {
      "text/plain": [
       "Dataset({\n",
       "    features: ['id', 'prompt', 'prompt_modified', 'prompt_fill_blank', 'dense_captions', 'input_images', 'has_nsfw'],\n",
       "    num_rows: 717\n",
       "})"
      ]
     },
     "execution_count": 3,
     "metadata": {},
     "output_type": "execute_result"
    }
   ],
   "source": [
    "# load the image-to-image-synthetic split\n",
    "ds_image_to_image_synthetic = load_dataset(\n",
    "    \"echo-bench/echo2025-mit\",\n",
    "    name=\"image_to_image\",\n",
    "    split=\"test\",\n",
    ")\n",
    "ds_image_to_image_synthetic"
   ]
  },
  {
   "cell_type": "code",
   "execution_count": 5,
   "id": "a6230baf",
   "metadata": {},
   "outputs": [
    {
     "data": {
      "application/vnd.jupyter.widget-view+json": {
       "model_id": "6df1925c4294414c9893a56a506ec32b",
       "version_major": 2,
       "version_minor": 0
      },
      "text/plain": [
       "Generating test split:   0%|          | 0/29336 [00:00<?, ? examples/s]"
      ]
     },
     "metadata": {},
     "output_type": "display_data"
    },
    {
     "data": {
      "text/plain": [
       "Dataset({\n",
       "    features: ['id', 'prompt', 'prompt_modified', 'quality', 'community_feedback'],\n",
       "    num_rows: 29336\n",
       "})"
      ]
     },
     "execution_count": 5,
     "metadata": {},
     "output_type": "execute_result"
    }
   ],
   "source": [
    "# load the analysis split\n",
    "ds_analysis = load_dataset(\n",
    "    \"echo-bench/echo2025\",\n",
    "    name=\"analysis\",\n",
    "    split=\"test\",\n",
    ")\n",
    "ds_analysis"
   ]
  }
 ],
 "metadata": {
  "kernelspec": {
   "display_name": "tweetbench",
   "language": "python",
   "name": "python3"
  },
  "language_info": {
   "codemirror_mode": {
    "name": "ipython",
    "version": 3
   },
   "file_extension": ".py",
   "mimetype": "text/x-python",
   "name": "python",
   "nbconvert_exporter": "python",
   "pygments_lexer": "ipython3",
   "version": "3.10.16"
  }
 },
 "nbformat": 4,
 "nbformat_minor": 5
}

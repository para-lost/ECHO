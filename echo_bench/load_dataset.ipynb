{
 "cells": [
  {
   "cell_type": "code",
   "execution_count": 2,
   "id": "49718179",
   "metadata": {},
   "outputs": [
    {
     "name": "stdout",
     "output_type": "stream",
     "text": [
      "717 1904601298038906936 1\n",
      "['1904601298038906936', '1904865923007439224', '1904870519167451567', '1904889620342452562'] 1\n"
     ]
    }
   ],
   "source": [
    "from torchvision import transforms\n",
    "from torch.utils.data import DataLoader\n",
    "from echo_bench_i2i import EchoBenchHFImageToImage, echo_bench_i2i_collate\n",
    "from datasets import load_dataset\n",
    "\n",
    "# load the image-to-image split\n",
    "ds = EchoBenchHFImageToImage(\n",
    "    repo_id=\"echo-bench/echo-bench\",\n",
    "    name=\"image_to_image\",\n",
    "    split=\"test\",\n",
    ")\n",
    "\n",
    "print(len(ds), ds[0][\"id\"], len(ds[0][\"input_images\"]))\n",
    "\n",
    "loader = DataLoader(ds, batch_size=4, shuffle=False, collate_fn=echo_bench_i2i_collate)\n",
    "batch = next(iter(loader))\n",
    "print(batch[\"id\"], len(batch[\"input_images\"][0]))\n"
   ]
  },
  {
   "cell_type": "code",
   "execution_count": 4,
   "id": "a306002a",
   "metadata": {},
   "outputs": [
    {
     "data": {
      "text/plain": [
       "Dataset({\n",
       "    features: ['id', 'prompt', 'prompt_modified', 'prompt_fill_blank', 'input_images', 'output_images', 'community_feedback', 'has_nsfw'],\n",
       "    num_rows: 848\n",
       "})"
      ]
     },
     "execution_count": 4,
     "metadata": {},
     "output_type": "execute_result"
    }
   ],
   "source": [
    "# load the text-to-image split\n",
    "ds_text_to_image = load_dataset(\n",
    "    \"echo-bench/echo-bench\",\n",
    "    name=\"text_to_image\",\n",
    "    split=\"test\",\n",
    ")\n",
    "ds_text_to_image\n"
   ]
  },
  {
   "cell_type": "code",
   "execution_count": 5,
   "id": "ff5a92de",
   "metadata": {},
   "outputs": [
    {
     "data": {
      "text/plain": [
       "Dataset({\n",
       "    features: ['id', 'prompt', 'prompt_modified', 'prompt_fill_blank', 'dense_captions', 'input_images', 'has_nsfw'],\n",
       "    num_rows: 717\n",
       "})"
      ]
     },
     "execution_count": 5,
     "metadata": {},
     "output_type": "execute_result"
    }
   ],
   "source": [
    "# load the image-to-image-synthetic split\n",
    "ds_image_to_image_synthetic = load_dataset(\n",
    "    \"echo-bench/echo-bench\",\n",
    "    name=\"image_to_image_synthetic\",\n",
    "    split=\"test\",\n",
    ")\n",
    "ds_image_to_image_synthetic"
   ]
  },
  {
   "cell_type": "code",
   "execution_count": 6,
   "id": "a6230baf",
   "metadata": {},
   "outputs": [
    {
     "data": {
      "application/vnd.jupyter.widget-view+json": {
       "model_id": "0fe6a36f3147463699eb4f0447c095ab",
       "version_major": 2,
       "version_minor": 0
      },
      "text/plain": [
       "Generating test split:   0%|          | 0/29336 [00:00<?, ? examples/s]"
      ]
     },
     "metadata": {},
     "output_type": "display_data"
    },
    {
     "data": {
      "text/plain": [
       "Dataset({\n",
       "    features: ['id', 'prompt', 'prompt_modified', 'quality', 'community_feedback'],\n",
       "    num_rows: 29336\n",
       "})"
      ]
     },
     "execution_count": 6,
     "metadata": {},
     "output_type": "execute_result"
    }
   ],
   "source": [
    "# load the analysis split\n",
    "ds_analysis = load_dataset(\n",
    "    \"echo-bench/echo-bench\",\n",
    "    name=\"analysis\",\n",
    "    split=\"test\",\n",
    ")\n",
    "ds_analysis"
   ]
  }
 ],
 "metadata": {
  "kernelspec": {
   "display_name": "tweetbench",
   "language": "python",
   "name": "python3"
  },
  "language_info": {
   "codemirror_mode": {
    "name": "ipython",
    "version": 3
   },
   "file_extension": ".py",
   "mimetype": "text/x-python",
   "name": "python",
   "nbconvert_exporter": "python",
   "pygments_lexer": "ipython3",
   "version": "3.10.16"
  }
 },
 "nbformat": 4,
 "nbformat_minor": 5
}
